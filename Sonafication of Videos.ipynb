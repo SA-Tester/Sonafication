{
 "cells": [
  {
   "cell_type": "code",
   "execution_count": 1,
   "id": "9225762e",
   "metadata": {},
   "outputs": [],
   "source": [
    "import sys\n",
    "sys.path.append(\"/Library/Frameworks/Python.framework/Versions/3.11/lib/python3.11/site-packages\")"
   ]
  },
  {
   "cell_type": "code",
   "execution_count": 2,
   "id": "5239cfc4",
   "metadata": {},
   "outputs": [],
   "source": [
    "import cv2\n",
    "import matplotlib.pyplot as plt\n",
    "import numpy as np\n",
    "from scipy.io import wavfile\n",
    "import time"
   ]
  },
  {
   "cell_type": "code",
   "execution_count": 3,
   "id": "fa1016f8",
   "metadata": {},
   "outputs": [
    {
     "name": "stdout",
     "output_type": "stream",
     "text": [
      "< cv2.VideoCapture 0x136f2b5f0>\n"
     ]
    }
   ],
   "source": [
    "capture = cv2.VideoCapture(\"video2.mp4\")\n",
    "print(capture)\n",
    "\n",
    "#if(capture.isOpened()):\n",
    "#    handle, frame = capture.read()\n",
    "#    if(handle):\n",
    "#        cv2.imshow(\"Frame\", frame)\n",
    "        \n",
    "#        if(cv2.waitKey(25) & 0xFF == ord('q')):\n",
    "#            cv2.destroyAllWindows()\n",
    "\n",
    "#else:\n",
    "#    print(\"Error reading the video file\")'''"
   ]
  },
  {
   "cell_type": "code",
   "execution_count": 4,
   "id": "7f0f65a1",
   "metadata": {},
   "outputs": [
    {
     "name": "stdout",
     "output_type": "stream",
     "text": [
      "No of Frames:  1799.0\n",
      "FPS:  29.97002997002997\n",
      "Length:  60.026633333333336\n"
     ]
    }
   ],
   "source": [
    "N_FRAMES = capture.get(cv2.CAP_PROP_FRAME_COUNT)\n",
    "FPS = capture.get(cv2.CAP_PROP_FPS)\n",
    "VIDEO_LENGTH = N_FRAMES/ FPS\n",
    "\n",
    "print(\"No of Frames: \", N_FRAMES)\n",
    "print(\"FPS: \",FPS)\n",
    "print(\"Length: \", VIDEO_LENGTH)"
   ]
  },
  {
   "cell_type": "code",
   "execution_count": 5,
   "id": "29ebae03",
   "metadata": {},
   "outputs": [
    {
     "name": "stdout",
     "output_type": "stream",
     "text": [
      "Execution Time:  4.37589693069458\n",
      "1799 1799 1799\n"
     ]
    }
   ],
   "source": [
    "yBlue = []\n",
    "yGreen = []\n",
    "yRed = []\n",
    "\n",
    "start = time.time()\n",
    "\n",
    "while not capture.isOpened():\n",
    "    capture = cv2.VideoCapture(\"flyover.mp4\")\n",
    "\n",
    "pointerFrame = capture.get(cv2.CAP_PROP_POS_FRAMES)\n",
    "attempts = 0\n",
    "current = pointerFrame\n",
    "\n",
    "while True:\n",
    "    flag, frame = capture.read()\n",
    "    \n",
    "    if flag:\n",
    "        # Frame is ready and already captured\n",
    "        # hsv = cv2.cvtColor(frame, cv2.COLOR_BGR2HSV)\n",
    "        \n",
    "        yBlue.append(frame[:, :, 0])\n",
    "        yGreen.append(frame[:, :, 1])\n",
    "        yRed.append(frame[:, :, 2])\n",
    "        # print(pointerFrame)\n",
    "        current = pointerFrame\n",
    "        pointerFrame = capture.get(cv2.CAP_PROP_POS_FRAMES)\n",
    "        \n",
    "    else:\n",
    "        # Frame is not ready\n",
    "        \n",
    "        if(current == pointerFrame and attempts > 10):\n",
    "            attempts = 0\n",
    "            break\n",
    "        else:           \n",
    "            #print(\"Not Ready\")\n",
    "            attempts += 1\n",
    "            capture.set(cv2.CAP_PROP_POS_FRAMES, pointerFrame - 1)      \n",
    "        \n",
    "    if N_FRAMES == cv2.CAP_PROP_POS_FRAMES:\n",
    "        break\n",
    "        \n",
    "if (int(N_FRAMES) < len(yBlue)):\n",
    "    yBlue = yBlue[0: int(N_FRAMES)]\n",
    "    yGreen = yGreen[0: int(N_FRAMES)]\n",
    "    yRed = yRed[0: int(N_FRAMES)]\n",
    "    \n",
    "end = time.time()\n",
    "\n",
    "yBlue = np.array(yBlue)\n",
    "yGreen = np.array(yGreen)\n",
    "yRed = np.array(yRed)\n",
    "\n",
    "print(\"Execution Time: \", end - start)\n",
    "print(len(yBlue), len(yGreen), len(yRed))"
   ]
  },
  {
   "cell_type": "code",
   "execution_count": 6,
   "id": "aec53b17",
   "metadata": {},
   "outputs": [
    {
     "name": "stdout",
     "output_type": "stream",
     "text": [
      "Execution time:  17.597728967666626\n",
      "(1799, 1280)\n",
      "(1799, 1280)\n",
      "(1799, 1280)\n"
     ]
    }
   ],
   "source": [
    "summarizedBlue = []\n",
    "summarizedGreen = []\n",
    "summarizedRed = []\n",
    "\n",
    "start = time.time()\n",
    "\n",
    "for i in range(len(yBlue)):\n",
    "    summarizedBlue.append(sum(yBlue[i]))\n",
    "    summarizedGreen.append(sum(yGreen[i]))\n",
    "    summarizedRed.append(sum(yRed[i]))\n",
    "\n",
    "summarizedBlue = np.array(summarizedBlue)   \n",
    "summarizedGreen = np.array(summarizedGreen) \n",
    "summarizedRed = np.array(summarizedRed) \n",
    "\n",
    "end = time.time()\n",
    "\n",
    "print(\"Execution time: \", end - start)\n",
    "print(summarizedBlue.shape)\n",
    "print(summarizedGreen.shape)\n",
    "print(summarizedRed.shape)"
   ]
  },
  {
   "cell_type": "code",
   "execution_count": 7,
   "id": "bd646b0d",
   "metadata": {},
   "outputs": [
    {
     "name": "stdout",
     "output_type": "stream",
     "text": [
      "<class 'numpy.ndarray'> (1799, 1280) [0. 0. 0. ... 0. 0. 0.]\n",
      "<class 'numpy.ndarray'> (1799, 1280) [0. 0. 0. ... 0. 0. 0.]\n",
      "<class 'numpy.ndarray'> (1799, 1280) [0. 0. 0. ... 0. 0. 0.]\n"
     ]
    }
   ],
   "source": [
    "speed_of_light = 3* pow(10,8)\n",
    "\n",
    "blueFrequencies = np.array([speed_of_light/ (((90* pow(10, -9)* summarizedBlue[i])/255) + 440* pow(10, -9)) \n",
    "                  if ((300 * pow(10, -9) * summarizedBlue[i])/255).all() != 0 \n",
    "                  else np.array([0.0]*summarizedBlue[i]) for i in range(summarizedBlue.shape[0])])\n",
    "\n",
    "greenFrequencies = np.array([speed_of_light/ (((95* pow(10, -9)* summarizedGreen[i])/255) + 490* pow(10, -9)) \n",
    "                  if ((300 * pow(10, -9) * summarizedGreen[i])/255).all() != 0 \n",
    "                  else np.array([0.0]*summarizedGreen[i]) for i in range(summarizedRed.shape[0])])\n",
    "\n",
    "redFrequencies = np.array([speed_of_light/ (((210* pow(10, -9)* summarizedRed[i])/ 255) + 520* pow(10, -9)) \n",
    "                  if ((300 * pow(10, -9) * summarizedRed[i])/255).all() != 0 \n",
    "                  else np.array([0.0]*summarizedRed[i]) for i in range(summarizedRed.shape[0])])\n",
    "\n",
    "print(type(blueFrequencies), blueFrequencies.shape, blueFrequencies[50])\n",
    "print(type(greenFrequencies), greenFrequencies.shape, greenFrequencies[50])\n",
    "print(type(redFrequencies), redFrequencies.shape, redFrequencies[50])"
   ]
  },
  {
   "cell_type": "code",
   "execution_count": 8,
   "id": "e38f8ae6",
   "metadata": {},
   "outputs": [
    {
     "name": "stdout",
     "output_type": "stream",
     "text": [
      "0.0 681271707186748.6\n",
      "0.0 611779759286656.8\n",
      "0.0 576010842557036.4\n"
     ]
    }
   ],
   "source": [
    "minBlue = np.min(blueFrequencies)\n",
    "maxBlue = np.max(blueFrequencies)\n",
    "minGreen = np.min(greenFrequencies)\n",
    "maxGreen = np.max(greenFrequencies)\n",
    "minRed = np.min(redFrequencies)\n",
    "maxRed = np.max(redFrequencies)\n",
    "\n",
    "blueFrequencies = np.array([(((blueFrequencies[i] - minBlue)*(2637.0 - 196.0)) / (maxBlue - minBlue + 1)) + 196.0 for i in range(len(blueFrequencies))])\n",
    "greenFrequencies = np.array([(((greenFrequencies[i] - minGreen)*(1046.5 - 130.8)) / (maxGreen - minGreen + 1)) + 130.8 for i in range(len(greenFrequencies))])\n",
    "redFrequencies = np.array([(((redFrequencies[i] - minRed)*(659.3 - 65.4)) / (maxRed - minRed + 1)) + 65.4 for i in range(len(redFrequencies))])\n",
    "\n",
    "print(minBlue, maxBlue)\n",
    "print(minGreen, maxGreen)   \n",
    "print(minRed, maxRed) "
   ]
  },
  {
   "cell_type": "code",
   "execution_count": 9,
   "id": "b9f681ef",
   "metadata": {},
   "outputs": [],
   "source": [
    "SAMPLE_RATE = FPS*N_FRAMES\n",
    "AMPLITUDE = 8192"
   ]
  },
  {
   "cell_type": "code",
   "execution_count": 10,
   "id": "282d25de",
   "metadata": {},
   "outputs": [],
   "source": [
    "def get_wave(frequency, duration = 0.5):\n",
    "    t = np.linspace(0, duration, int(SAMPLE_RATE*duration))\n",
    "    wave = AMPLITUDE * np.sin(2* np.pi* frequency* t) # A sin(2*pi*f*t)\n",
    "    return wave"
   ]
  },
  {
   "cell_type": "code",
   "execution_count": null,
   "id": "8443a672",
   "metadata": {},
   "outputs": [],
   "source": [
    "finalBlue = []\n",
    "finalGreen = []\n",
    "finalRed = []\n",
    "\n",
    "n = 0\n",
    "\n",
    "while n != (int(N_FRAMES)):\n",
    "    finalBlue.append(sum(blueFrequencies[n: n+int(FPS)])/N_FRAMES)\n",
    "    finalGreen.append(sum(greenFrequencies[n: n+int(FPS)])/N_FRAMES)\n",
    "    finalRed.append(sum(redFrequencies[n: n+int(FPS)])/N_FRAMES)\n",
    "    n += int(FPS)\n",
    "    \n",
    "print(len(finalBlue), len(finalGreen), len(finalRed))"
   ]
  },
  {
   "cell_type": "code",
   "execution_count": null,
   "id": "672af613",
   "metadata": {},
   "outputs": [],
   "source": [
    "# Making waves based of BGR Frequencies\n",
    "\n",
    "blueWave1 = []\n",
    "greenWave1 = []\n",
    "redWave1 = []\n",
    "\n",
    "time = 1\n",
    "\n",
    "for i in range(int(FPS)):\n",
    "    blueWave1.append(get_wave(sum(finalBlue[i])/N_FRAMES, time))\n",
    "    greenWave1.append(get_wave(sum(finalGreen[i])/N_FRAMES, time))\n",
    "    redWave1.append(get_wave(sum(finalRed[i])/N_FRAMES, time))\n",
    "\n",
    "blueWave1 = np.concatenate(np.array(blueWave1))\n",
    "greenWave1 = np.concatenate(np.array(greenWave1))\n",
    "redWave1 = np.concatenate(np.array(redWave1))\n",
    "\n",
    "print(len(blueWave1), len(greenWave1), len(redWave1))"
   ]
  },
  {
   "cell_type": "code",
   "execution_count": null,
   "id": "19e4d916",
   "metadata": {
    "scrolled": true
   },
   "outputs": [],
   "source": [
    "plt.figure(figsize=(20,10))\n",
    "\n",
    "plt.subplot(4,1,1)\n",
    "plt.plot(blueWave1[0: 1000])\n",
    "plt.subplot(4,1,1).set_title(\"Blue Wave 1\")\n",
    "\n",
    "plt.subplot(4,1,2)\n",
    "plt.plot(greenWave1[0:1000])\n",
    "plt.subplot(4,1,2).set_title(\"Green Wave 1\")\n",
    "\n",
    "plt.subplot(4,1,3)\n",
    "plt.plot(redWave1[0:1000])\n",
    "plt.subplot(4,1,3).set_title(\"Red Wave 1\")\n",
    "\n",
    "plt.show()"
   ]
  },
  {
   "cell_type": "code",
   "execution_count": null,
   "id": "cd440335",
   "metadata": {},
   "outputs": [],
   "source": [
    "waves = [blueWave1, greenWave1, redWave1] #[blueWave1, blueWave2, greenWave1, greenWave2, redWave1, redWave2]\n",
    "maxCols = max(wave.shape[0] for wave in waves)\n",
    "\n",
    "blueWave1 = np.hstack((blueWave1, np.zeros(maxCols - blueWave1.shape[0])))\n",
    "greenWave1 = np.hstack((greenWave1, np.zeros(maxCols - greenWave1.shape[0])))\n",
    "redWave1 = np.hstack((redWave1, np.zeros(maxCols - redWave1.shape[0])))\n",
    "     \n",
    "combinedWave = blueWave1 + greenWave1 + redWave1 "
   ]
  },
  {
   "cell_type": "code",
   "execution_count": null,
   "id": "4c8dcd99",
   "metadata": {
    "scrolled": true
   },
   "outputs": [],
   "source": [
    "plt.figure(figsize=(20,10))\n",
    "\n",
    "plt.plot(combinedWave[0:1000])\n",
    "plt.show()"
   ]
  },
  {
   "cell_type": "code",
   "execution_count": null,
   "id": "ecbe708b",
   "metadata": {},
   "outputs": [],
   "source": [
    "minCombined = np.min(combinedWave)\n",
    "maxCombined = np.max(combinedWave)\n",
    "\n",
    "for i in range(len(combinedWave)):\n",
    "    combinedWave[i] = (((combinedWave[i] - minCombined)*(2637.0 - 65.4))/(maxCombined-minCombined)) + 65.4"
   ]
  },
  {
   "cell_type": "code",
   "execution_count": null,
   "id": "3b134291",
   "metadata": {},
   "outputs": [],
   "source": [
    "plt.figure(figsize=(20,10))\n",
    "\n",
    "plt.plot(combinedWave[0:1000])\n",
    "plt.show()"
   ]
  },
  {
   "cell_type": "code",
   "execution_count": null,
   "id": "39d1effd",
   "metadata": {},
   "outputs": [],
   "source": [
    "wavfile.write('video.wav', int(SAMPLE_RATE), combinedWave.astype(np.int16))"
   ]
  }
 ],
 "metadata": {
  "kernelspec": {
   "display_name": "Python 3 (ipykernel)",
   "language": "python",
   "name": "python3"
  },
  "language_info": {
   "codemirror_mode": {
    "name": "ipython",
    "version": 3
   },
   "file_extension": ".py",
   "mimetype": "text/x-python",
   "name": "python",
   "nbconvert_exporter": "python",
   "pygments_lexer": "ipython3",
   "version": "3.11.5"
  }
 },
 "nbformat": 4,
 "nbformat_minor": 5
}
